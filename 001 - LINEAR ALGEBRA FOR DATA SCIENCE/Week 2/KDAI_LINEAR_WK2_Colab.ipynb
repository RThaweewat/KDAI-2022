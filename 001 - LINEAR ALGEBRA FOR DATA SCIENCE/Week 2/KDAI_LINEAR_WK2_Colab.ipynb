{
  "nbformat": 4,
  "nbformat_minor": 0,
  "metadata": {
    "colab": {
      "name": "Week2.ipynb",
      "provenance": [],
      "collapsed_sections": []
    },
    "kernelspec": {
      "name": "python3",
      "display_name": "Python 3"
    }
  },
  "cells": [
    {
      "cell_type": "code",
      "metadata": {
        "colab": {
          "base_uri": "https://localhost:8080/"
        },
        "id": "CPWIIEDWzJgn",
        "outputId": "48312264-5957-4685-caa0-a9d585f31e0b"
      },
      "source": [
        "import numpy as np\n",
        "from scipy import linalg\n",
        "\n",
        "# ตัวอย่างที่ 16\n",
        "\n",
        "A = np.array([[1, 5, 0], [0, -3, 1], [2, 4, -1]]) \n",
        "\n",
        "print(A, '\\n') \n",
        "\n",
        "print(linalg.det(A), '\\n')"
      ],
      "execution_count": null,
      "outputs": [
        {
          "output_type": "stream",
          "name": "stdout",
          "text": [
            "[[ 1  5  0]\n",
            " [ 0 -3  1]\n",
            " [ 2  4 -1]] \n",
            "\n",
            "9.0 \n",
            "\n"
          ]
        }
      ]
    },
    {
      "cell_type": "code",
      "metadata": {
        "colab": {
          "base_uri": "https://localhost:8080/"
        },
        "id": "W95c5b0sQjdK",
        "outputId": "b93dbf09-2918-44e6-e01c-cdae0fea755a"
      },
      "source": [
        "# ตัวอย่างที่ 19\n",
        "\n",
        "B = np.array([[1, 1, 0, 3], [2, 1, -1, 1], [3, -1, -1, 2], [-1, 2, 3, -1]]) \n",
        "\n",
        "print(B, '\\n') \n",
        "\n",
        "print(linalg.det(B), '\\n')"
      ],
      "execution_count": null,
      "outputs": [
        {
          "output_type": "stream",
          "name": "stdout",
          "text": [
            "[[ 1  1  0  3]\n",
            " [ 2  1 -1  1]\n",
            " [ 3 -1 -1  2]\n",
            " [-1  2  3 -1]] \n",
            "\n",
            "39.0 \n",
            "\n"
          ]
        }
      ]
    },
    {
      "cell_type": "code",
      "source": [
        "# ตัวอย่าง 24\n",
        "\n",
        "C = np.array([[1, 2, 3], [2, 5, 3], [1, 0, 8]]) \n",
        "\n",
        "print(C, '\\n') \n",
        "\n",
        "print(linalg.det(C), '\\n')\n",
        "\n",
        "print(linalg.inv(C), '\\n')\n",
        "\n",
        "d = np.array([5, 3, 17]) \n",
        "\n",
        "print(np.linalg.solve(C,d), '\\n')"
      ],
      "metadata": {
        "colab": {
          "base_uri": "https://localhost:8080/"
        },
        "id": "gThkiQcrrpTV",
        "outputId": "a4835655-1e16-41a5-cb2e-d333b6c61af4"
      },
      "execution_count": null,
      "outputs": [
        {
          "output_type": "stream",
          "name": "stdout",
          "text": [
            "[[1 2 3]\n",
            " [2 5 3]\n",
            " [1 0 8]] \n",
            "\n",
            "-1.0000000000000004 \n",
            "\n",
            "[[-40.  16.   9.]\n",
            " [ 13.  -5.  -3.]\n",
            " [  5.  -2.  -1.]] \n",
            "\n",
            "[ 1. -1.  2.] \n",
            "\n"
          ]
        }
      ]
    },
    {
      "cell_type": "code",
      "metadata": {
        "colab": {
          "base_uri": "https://localhost:8080/"
        },
        "id": "fpw-UC1SZGEq",
        "outputId": "972eeaa0-f04b-4881-af43-4e394a87e23d"
      },
      "source": [
        "#Row Reduce\n",
        "\n",
        "A = np.array([[1, 1, 0, 3], [2, 1, -1, 1], [3, -1, -1, 2], [-1, 2, 3, -1]]) \n",
        "n = len(A)\n",
        "for k in range(n-1) :\n",
        "  for i in range(k+1,n) :\n",
        "    u = A[i,k]/A[k,k]\n",
        "    for j in range(k,n) :\n",
        "      A[i,j] = A[i,j] - u*A[k,j]\n",
        "print(A)"
      ],
      "execution_count": null,
      "outputs": [
        {
          "output_type": "stream",
          "text": [
            "[[  1   1   0   3]\n",
            " [  0  -1  -1  -5]\n",
            " [  0   0   3  13]\n",
            " [  0   0   0 -13]]\n"
          ],
          "name": "stdout"
        }
      ]
    },
    {
      "cell_type": "code",
      "metadata": {
        "colab": {
          "base_uri": "https://localhost:8080/"
        },
        "id": "TJBatexqk3Fu",
        "outputId": "79d9c2f3-46a5-4986-d3a8-179312fb4a9c"
      },
      "source": [
        "#Inverse\n",
        "from scipy import linalg\n",
        "np.set_printoptions(precision=6)\n",
        "\n",
        "A = np.array([[1, 1, 0, 3], [2, 1, -1, 1], [3, -1, -1, 2], [-1, 2, 3, -1]]) \n",
        "B = A\n",
        "if abs(linalg.det(A)) > 0.00000000000000000001 :\n",
        "  n = len(A)\n",
        "  A = np.column_stack((A, np.identity(n)))\n",
        "  print(A)\n",
        "\n",
        "  x = np.zeros(4)\n",
        "  for k in range(n) :\n",
        "    for i in range(k+1,n) :\n",
        "      u = A[i,k]/A[k,k]\n",
        "      for j in range(k,n+n) :\n",
        "        A[i,j] = A[i,j] - u*A[k,j]\n",
        "    for i in range(k-1,-1,-1) :\n",
        "      u = A[i,k]/A[k,k]\n",
        "      for j in range(k,n+n) :\n",
        "        A[i,j] = A[i,j] - u*A[k,j]\n",
        "    print(A)\n",
        "\n",
        "  for i in range(n) :\n",
        "    A[i][:] = A[i][:]/A[i][i]\n",
        "  print(A)\n",
        "\n",
        "  C = np.split(A, 2, axis=1)\n",
        "  Ainverse = C[:][1]\n",
        "  print(Ainverse)\n",
        "  print(linalg.inv(B), '\\n')"
      ],
      "execution_count": null,
      "outputs": [
        {
          "output_type": "stream",
          "text": [
            "[[ 1.  1.  0.  3.  1.  0.  0.  0.]\n",
            " [ 2.  1. -1.  1.  0.  1.  0.  0.]\n",
            " [ 3. -1. -1.  2.  0.  0.  1.  0.]\n",
            " [-1.  2.  3. -1.  0.  0.  0.  1.]]\n",
            "[[ 1.  1.  0.  3.  1.  0.  0.  0.]\n",
            " [ 0. -1. -1. -5. -2.  1.  0.  0.]\n",
            " [ 0. -4. -1. -7. -3.  0.  1.  0.]\n",
            " [ 0.  3.  3.  2.  1.  0.  0.  1.]]\n",
            "[[  1.   0.  -1.  -2.  -1.   1.   0.   0.]\n",
            " [  0.  -1.  -1.  -5.  -2.   1.   0.   0.]\n",
            " [  0.   0.   3.  13.   5.  -4.   1.   0.]\n",
            " [  0.   0.   0. -13.  -5.   3.   0.   1.]]\n",
            "[[  1.         0.         0.         2.333333   0.666667  -0.333333\n",
            "    0.333333   0.      ]\n",
            " [  0.        -1.         0.        -0.666667  -0.333333  -0.333333\n",
            "    0.333333   0.      ]\n",
            " [  0.         0.         3.        13.         5.        -4.\n",
            "    1.         0.      ]\n",
            " [  0.         0.         0.       -13.        -5.         3.\n",
            "    0.         1.      ]]\n",
            "[[  1.         0.         0.         0.        -0.230769   0.205128\n",
            "    0.333333   0.179487]\n",
            " [  0.        -1.         0.         0.        -0.076923  -0.487179\n",
            "    0.333333  -0.051282]\n",
            " [  0.         0.         3.         0.         0.        -1.\n",
            "    1.         1.      ]\n",
            " [  0.         0.         0.       -13.        -5.         3.\n",
            "    0.         1.      ]]\n",
            "[[ 1.        0.        0.        0.       -0.230769  0.205128  0.333333\n",
            "   0.179487]\n",
            " [-0.        1.       -0.       -0.        0.076923  0.487179 -0.333333\n",
            "   0.051282]\n",
            " [ 0.        0.        1.        0.        0.       -0.333333  0.333333\n",
            "   0.333333]\n",
            " [-0.       -0.       -0.        1.        0.384615 -0.230769 -0.\n",
            "  -0.076923]]\n",
            "[[-0.230769  0.205128  0.333333  0.179487]\n",
            " [ 0.076923  0.487179 -0.333333  0.051282]\n",
            " [ 0.       -0.333333  0.333333  0.333333]\n",
            " [ 0.384615 -0.230769 -0.       -0.076923]]\n",
            "[[-2.307692e-01  2.051282e-01  3.333333e-01  1.794872e-01]\n",
            " [ 7.692308e-02  4.871795e-01 -3.333333e-01  5.128205e-02]\n",
            " [ 0.000000e+00 -3.333333e-01  3.333333e-01  3.333333e-01]\n",
            " [ 3.846154e-01 -2.307692e-01 -5.551115e-17 -7.692308e-02]] \n",
            "\n"
          ],
          "name": "stdout"
        }
      ]
    },
    {
      "cell_type": "code",
      "metadata": {
        "colab": {
          "base_uri": "https://localhost:8080/"
        },
        "id": "f1x5AragdiCX",
        "outputId": "34447b6d-06ab-4e81-fdf7-45acd473b0e7"
      },
      "source": [
        "#Gauss Elimination\n",
        "\n",
        "A = np.array([[1, 1, 0, 3], [2, 1, -1, 1], [3, -1, -1, 2], [-1, 2, 3, -1]]) \n",
        "if linalg.det(A) > 0.00000000000000000001 :\n",
        "  b = np.array([4, 1, -3, 4])\n",
        "  A = np.column_stack((A, b))\n",
        "  print(A)\n",
        "  n = len(A)\n",
        "  x = np.zeros(4)\n",
        "  for k in range(n-1) :\n",
        "    for i in range(k+1,n) :\n",
        "      u = A[i,k]/A[k,k]\n",
        "      for j in range(k,n+1) :\n",
        "        A[i,j] = A[i,j] - u*A[k,j]\n",
        "  x[n-1] = A[n-1,n]/A[n-1,n-1]\n",
        "  for i in range(n-2,-1,-1) :\n",
        "    sum = 0\n",
        "    for j in range(i+1,n) :\n",
        "      sum = sum + A[i,j]*x[j]\n",
        "    x[i] = (A[i,n] - sum)/A[i,i]\n",
        "  print(A)\n",
        "  print(x)"
      ],
      "execution_count": null,
      "outputs": [
        {
          "output_type": "stream",
          "text": [
            "[[ 1  1  0  3  4]\n",
            " [ 2  1 -1  1  1]\n",
            " [ 3 -1 -1  2 -3]\n",
            " [-1  2  3 -1  4]]\n",
            "[[  1   1   0   3   4]\n",
            " [  0  -1  -1  -5  -7]\n",
            " [  0   0   3  13  13]\n",
            " [  0   0   0 -13 -13]]\n",
            "[-1.  2.  0.  1.]\n"
          ],
          "name": "stdout"
        }
      ]
    }
  ]
}
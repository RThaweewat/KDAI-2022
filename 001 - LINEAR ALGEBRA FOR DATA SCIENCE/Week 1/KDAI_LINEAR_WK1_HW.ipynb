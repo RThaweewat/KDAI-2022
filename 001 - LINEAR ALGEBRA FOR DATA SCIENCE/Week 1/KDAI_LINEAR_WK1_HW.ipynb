{
 "nbformat": 4,
 "nbformat_minor": 0,
 "metadata": {
  "colab": {
   "name": "KDAI LINEAR WK1 HW",
   "provenance": []
  },
  "kernelspec": {
   "name": "python3",
   "display_name": "Python 3"
  },
  "language_info": {
   "name": "python"
  }
 },
 "cells": [
  {
   "cell_type": "code",
   "source": [
    "\"\"\"\n",
    "K-DAI Linear Algebra HW1 / WK1 BOY\n",
    "Thaweewat Rugsujarit 65056039@kmitl.ac.th\n",
    "Random number till found 0 at last 3 digits\n",
    "\"\"\"\n",
    "from datetime import datetime\n",
    "import random\n",
    "\n",
    "# print timestamp from current date and time\n",
    "now = datetime.now()\n",
    "print(\"Timestamp: \", now)\n",
    "\n",
    "\n",
    "def random_gen():\n",
    "    \"\"\"\n",
    "    This function will generate random number to list\n",
    "    and add stop trigger when last three digits are 0.\n",
    "    :return num_list: list\n",
    "    \"\"\"\n",
    "    num_list = []\n",
    "    stop_trigger = []\n",
    "    while len(stop_trigger) != 1:\n",
    "        a = random.randint(0, 1)\n",
    "        num_list.append(a)\n",
    "        if 1 not in num_list[-3:] and len(num_list) >= 3:\n",
    "            stop_trigger.append(1)\n",
    "    return num_list\n",
    "\n",
    "\n",
    "# test 1\n",
    "print(f\"Trial #1 > {random_gen()}\")\n",
    "# test 2\n",
    "print(f\"Trial #2 > {random_gen()}\")\n",
    "# test 3\n",
    "print(f\"Trial #3 > {random_gen()}\")\n",
    "# test 4\n",
    "print(f\"Trial #4 > {random_gen()}\")"
   ],
   "metadata": {
    "colab": {
     "base_uri": "https://localhost:8080/"
    },
    "id": "UrpafDVTrwmG",
    "outputId": "6af9ef61-991b-468d-ec6d-78c55ed5ade4",
    "pycharm": {
     "name": "#%%\n"
    }
   },
   "execution_count": 1,
   "outputs": [
    {
     "output_type": "stream",
     "name": "stdout",
     "text": [
      "Timestamp:  2022-08-11 15:55:06.193555\n",
      "Trial #1 > [1, 0, 0, 1, 1, 1, 0, 0, 0]\n",
      "Trial #2 > [0, 1, 0, 1, 0, 1, 1, 1, 0, 0, 1, 0, 1, 1, 0, 1, 0, 0, 0]\n",
      "Trial #3 > [1, 1, 0, 1, 0, 0, 1, 0, 0, 1, 1, 1, 1, 0, 0, 0]\n",
      "Trial #4 > [0, 0, 1, 0, 1, 1, 1, 0, 1, 1, 0, 0, 1, 1, 0, 1, 1, 0, 0, 0]\n"
     ]
    }
   ]
  },
  {
   "cell_type": "code",
   "execution_count": 9,
   "metadata": {
    "colab": {
     "base_uri": "https://localhost:8080/"
    },
    "id": "QFHpFvdipPpR",
    "outputId": "8c73b29d-ebeb-47d1-bdae-13aed0b5262a",
    "pycharm": {
     "name": "#%%\n"
    }
   },
   "outputs": [
    {
     "output_type": "stream",
     "name": "stdout",
     "text": [
      "Timestamp:  2022-08-11 16:12:11.681481\n",
      "Point 1 name: A\n",
      "Point 2 name: B\n",
      "Point 3 name: C\n",
      "A: X Axis = 12\n",
      "A: Y Axis = 23\n",
      "B: X Axis = 25\n",
      "B: Y Axis = 13\n",
      "C: X Axis = 2\n",
      "C: Y Axis = 3\n",
      "Distance between A and B is 16.4012\n",
      "Distance between A and C is 22.3607\n",
      "Distance between B and C is 25.0799\n",
      "The shortest path is between A and B.\n"
     ]
    }
   ],
   "source": [
    "\"\"\"\n",
    "K-DAI Linear Algebra HW2 / WK1\n",
    "Thaweewat Rugsujarit 65056039@kmitl.ac.th\n",
    "The Shortest distance with pure python\n",
    "\"\"\"\n",
    "from datetime import datetime\n",
    "import numpy as np\n",
    "\n",
    "# print timestamp from current date and time\n",
    "now = datetime.now()\n",
    "print(\"Timestamp: \", now)\n",
    "\n",
    "# Input points name\n",
    "point_name = [\n",
    "    str(input(\"Point 1 name: \")),\n",
    "    str(input(\"Point 2 name: \")),\n",
    "    str(input(\"Point 3 name: \")),\n",
    "]\n",
    "\n",
    "# Input X-Axis and Y-Axis on each points\n",
    "points = [\n",
    "    [\n",
    "        int(input(f\"{point_name[0]}: X Axis = \")),\n",
    "        int(input(f\"{point_name[0]}: Y Axis = \")),\n",
    "    ],\n",
    "    [\n",
    "        int(input(f\"{point_name[1]}: X Axis = \")),\n",
    "        int(input(f\"{point_name[1]}: Y Axis = \")),\n",
    "    ],\n",
    "    [\n",
    "        int(input(f\"{point_name[2]}: X Axis = \")),\n",
    "        int(input(f\"{point_name[2]}: Y Axis = \")),\n",
    "    ],\n",
    "]\n",
    "\n",
    "\n",
    "def euc_dist(pos_1, pos_2):\n",
    "    \"\"\"\n",
    "    This function will calculate Euclidean distance from points\n",
    "    :param pos_1: int\n",
    "    :param pos_2: int\n",
    "    :return Distance: float (4 decimals)\n",
    "    \"\"\"\n",
    "    pos_1_array = np.array(pos_1)\n",
    "    pos_2_array = np.array(pos_2)\n",
    "    dist_cal = np.sqrt(np.sum(np.square(pos_1_array - pos_2_array)))\n",
    "    return round(dist_cal, 4)\n",
    "\n",
    "\n",
    "def paired_point(pos_name_1, pos_name_2):\n",
    "    \"\"\"\n",
    "    This function will save paired points as string\n",
    "    :param pos_name_1: str\n",
    "    :param pos_name_2: str\n",
    "    :return combined point name: str\n",
    "    \"\"\"\n",
    "    return f\"{pos_name_1} and {pos_name_2}\"\n",
    "\n",
    "\n",
    "distances = []\n",
    "point_matched = []\n",
    "for i in range(len(points) - 1):\n",
    "    for j in range(i + 1, len(points)):\n",
    "        # Get first and second points from list\n",
    "        dist_paired = [euc_dist(points[i], points[j])]\n",
    "        paired_pos = paired_point(point_name[i], point_name[j])\n",
    "        # Append distance and paired points to list\n",
    "        distances.append(dist_paired)\n",
    "        point_matched.append(paired_pos)\n",
    "        # Print paired points with distance\n",
    "        print(f\"Distance between {paired_pos} is {dist_paired[0]}\")\n",
    "\n",
    "# Get Min paired point and distance\n",
    "min_index = distances.index(min(distances))\n",
    "print(f\"The shortest path is between {point_matched[min_index]}.\")"
   ]
  }
 ]
}
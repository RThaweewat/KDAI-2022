{
 "cells": [
  {
   "cell_type": "code",
   "execution_count": 128,
   "metadata": {
    "collapsed": true
   },
   "outputs": [],
   "source": [
    "import pandas as pd\n",
    "import re"
   ]
  },
  {
   "cell_type": "code",
   "execution_count": 129,
   "outputs": [],
   "source": [
    "# Data path\n",
    "DATA_PATH = \"https://raw.githubusercontent.com/RThaweewat/KDAI-2022/main/AIT-Sensors.csv\"\n",
    "\n",
    "# Assign zone based on node\n",
    "mapping_list = {\n",
    "\t'AIT10': '1MS', 'AIT11': '1MS', 'AIT12': '1MS', 'AIT13': '1MS', 'AIT14': '1MS',\n",
    "\t'AIT15': '3TS', 'AIT16': '3TS', 'AIT17': '3TS', 'AIT18': '4MG', 'AIT19': '2TS2'\n",
    "}\n",
    "\n",
    "# Set threshold\n",
    "low_threshold = 30\n",
    "high_threshold = 120"
   ],
   "metadata": {
    "collapsed": false
   }
  },
  {
   "cell_type": "code",
   "execution_count": 131,
   "outputs": [
    {
     "data": {
      "text/plain": "           date hour   node  temperature   humidity  airpressure       pm2_5  \\\n0    2018-03-17   00  AIT11    30.941176  57.250000   987.373529  107.088235   \n1    2018-03-17   00  AIT12    27.394118  53.661765   986.361765   65.676471   \n2    2018-03-17   00  AIT13    26.642857  57.537143   988.322857   69.485714   \n3    2018-03-17   01  AIT11    30.567647  57.770588   986.970588  101.617647   \n4    2018-03-17   01  AIT12    27.488235  57.520588   986.002941   61.735294   \n...         ...  ...    ...          ...        ...          ...         ...   \n5815 2018-04-17   23  AIT13    33.300000  49.326471   576.323529   90.294118   \n5816 2018-04-17   23  AIT14    31.165714  55.002857   989.054286   77.571429   \n5817 2018-04-17   23  AIT15    29.196970  56.739394   986.732353  136.941176   \n5818 2018-04-17   23  AIT17    31.067647  51.508824   987.152941   84.029412   \n5819 2018-04-17   23  AIT18    31.848571  46.122857   991.540000  129.285714   \n\n            pm10      pm1_0         co          co2        hcho zone  \\\n0     115.000000  70.058824  21.744118   423.411765    0.382353  1MS   \n1      70.470588  44.970588  15.558824   953.941176  173.117647  1MS   \n2      74.085714  47.457143  14.702857  1026.885714  154.257143  1MS   \n3     108.411765  66.676471  21.676471   427.411765    0.000000  1MS   \n4      65.588235  42.235294  15.350000   970.323529  150.911765  1MS   \n...          ...        ...        ...          ...         ...  ...   \n5815   94.970588  64.235294  10.505882   426.676471    0.000000  1MS   \n5816   82.885714  51.914286  29.582857   425.742857    0.000000  1MS   \n5817  145.147059  96.000000  16.176471   457.941176   26.516129  3TS   \n5818   89.882353  59.264706  13.858824   460.294118    0.000000  3TS   \n5819  137.028571  92.885714   9.205714   643.000000   29.000000  4MG   \n\n     pm2_5_class  \n0         Medium  \n1         Medium  \n2         Medium  \n3         Medium  \n4         Medium  \n...          ...  \n5815      Medium  \n5816      Medium  \n5817        High  \n5818      Medium  \n5819        High  \n\n[5820 rows x 14 columns]",
      "text/html": "<div>\n<style scoped>\n    .dataframe tbody tr th:only-of-type {\n        vertical-align: middle;\n    }\n\n    .dataframe tbody tr th {\n        vertical-align: top;\n    }\n\n    .dataframe thead th {\n        text-align: right;\n    }\n</style>\n<table border=\"1\" class=\"dataframe\">\n  <thead>\n    <tr style=\"text-align: right;\">\n      <th></th>\n      <th>date</th>\n      <th>hour</th>\n      <th>node</th>\n      <th>temperature</th>\n      <th>humidity</th>\n      <th>airpressure</th>\n      <th>pm2_5</th>\n      <th>pm10</th>\n      <th>pm1_0</th>\n      <th>co</th>\n      <th>co2</th>\n      <th>hcho</th>\n      <th>zone</th>\n      <th>pm2_5_class</th>\n    </tr>\n  </thead>\n  <tbody>\n    <tr>\n      <th>0</th>\n      <td>2018-03-17</td>\n      <td>00</td>\n      <td>AIT11</td>\n      <td>30.941176</td>\n      <td>57.250000</td>\n      <td>987.373529</td>\n      <td>107.088235</td>\n      <td>115.000000</td>\n      <td>70.058824</td>\n      <td>21.744118</td>\n      <td>423.411765</td>\n      <td>0.382353</td>\n      <td>1MS</td>\n      <td>Medium</td>\n    </tr>\n    <tr>\n      <th>1</th>\n      <td>2018-03-17</td>\n      <td>00</td>\n      <td>AIT12</td>\n      <td>27.394118</td>\n      <td>53.661765</td>\n      <td>986.361765</td>\n      <td>65.676471</td>\n      <td>70.470588</td>\n      <td>44.970588</td>\n      <td>15.558824</td>\n      <td>953.941176</td>\n      <td>173.117647</td>\n      <td>1MS</td>\n      <td>Medium</td>\n    </tr>\n    <tr>\n      <th>2</th>\n      <td>2018-03-17</td>\n      <td>00</td>\n      <td>AIT13</td>\n      <td>26.642857</td>\n      <td>57.537143</td>\n      <td>988.322857</td>\n      <td>69.485714</td>\n      <td>74.085714</td>\n      <td>47.457143</td>\n      <td>14.702857</td>\n      <td>1026.885714</td>\n      <td>154.257143</td>\n      <td>1MS</td>\n      <td>Medium</td>\n    </tr>\n    <tr>\n      <th>3</th>\n      <td>2018-03-17</td>\n      <td>01</td>\n      <td>AIT11</td>\n      <td>30.567647</td>\n      <td>57.770588</td>\n      <td>986.970588</td>\n      <td>101.617647</td>\n      <td>108.411765</td>\n      <td>66.676471</td>\n      <td>21.676471</td>\n      <td>427.411765</td>\n      <td>0.000000</td>\n      <td>1MS</td>\n      <td>Medium</td>\n    </tr>\n    <tr>\n      <th>4</th>\n      <td>2018-03-17</td>\n      <td>01</td>\n      <td>AIT12</td>\n      <td>27.488235</td>\n      <td>57.520588</td>\n      <td>986.002941</td>\n      <td>61.735294</td>\n      <td>65.588235</td>\n      <td>42.235294</td>\n      <td>15.350000</td>\n      <td>970.323529</td>\n      <td>150.911765</td>\n      <td>1MS</td>\n      <td>Medium</td>\n    </tr>\n    <tr>\n      <th>...</th>\n      <td>...</td>\n      <td>...</td>\n      <td>...</td>\n      <td>...</td>\n      <td>...</td>\n      <td>...</td>\n      <td>...</td>\n      <td>...</td>\n      <td>...</td>\n      <td>...</td>\n      <td>...</td>\n      <td>...</td>\n      <td>...</td>\n      <td>...</td>\n    </tr>\n    <tr>\n      <th>5815</th>\n      <td>2018-04-17</td>\n      <td>23</td>\n      <td>AIT13</td>\n      <td>33.300000</td>\n      <td>49.326471</td>\n      <td>576.323529</td>\n      <td>90.294118</td>\n      <td>94.970588</td>\n      <td>64.235294</td>\n      <td>10.505882</td>\n      <td>426.676471</td>\n      <td>0.000000</td>\n      <td>1MS</td>\n      <td>Medium</td>\n    </tr>\n    <tr>\n      <th>5816</th>\n      <td>2018-04-17</td>\n      <td>23</td>\n      <td>AIT14</td>\n      <td>31.165714</td>\n      <td>55.002857</td>\n      <td>989.054286</td>\n      <td>77.571429</td>\n      <td>82.885714</td>\n      <td>51.914286</td>\n      <td>29.582857</td>\n      <td>425.742857</td>\n      <td>0.000000</td>\n      <td>1MS</td>\n      <td>Medium</td>\n    </tr>\n    <tr>\n      <th>5817</th>\n      <td>2018-04-17</td>\n      <td>23</td>\n      <td>AIT15</td>\n      <td>29.196970</td>\n      <td>56.739394</td>\n      <td>986.732353</td>\n      <td>136.941176</td>\n      <td>145.147059</td>\n      <td>96.000000</td>\n      <td>16.176471</td>\n      <td>457.941176</td>\n      <td>26.516129</td>\n      <td>3TS</td>\n      <td>High</td>\n    </tr>\n    <tr>\n      <th>5818</th>\n      <td>2018-04-17</td>\n      <td>23</td>\n      <td>AIT17</td>\n      <td>31.067647</td>\n      <td>51.508824</td>\n      <td>987.152941</td>\n      <td>84.029412</td>\n      <td>89.882353</td>\n      <td>59.264706</td>\n      <td>13.858824</td>\n      <td>460.294118</td>\n      <td>0.000000</td>\n      <td>3TS</td>\n      <td>Medium</td>\n    </tr>\n    <tr>\n      <th>5819</th>\n      <td>2018-04-17</td>\n      <td>23</td>\n      <td>AIT18</td>\n      <td>31.848571</td>\n      <td>46.122857</td>\n      <td>991.540000</td>\n      <td>129.285714</td>\n      <td>137.028571</td>\n      <td>92.885714</td>\n      <td>9.205714</td>\n      <td>643.000000</td>\n      <td>29.000000</td>\n      <td>4MG</td>\n      <td>High</td>\n    </tr>\n  </tbody>\n</table>\n<p>5820 rows × 14 columns</p>\n</div>"
     },
     "execution_count": 131,
     "metadata": {},
     "output_type": "execute_result"
    }
   ],
   "source": [
    "sensor_raw = pd.read_csv(DATA_PATH)\n",
    "sensor_processed = (sensor_raw\n",
    "                      .rename(columns=lambda x: re.sub('\\W+', '_', x))\n",
    "                      .rename(str.lower, axis='columns')\n",
    "                      .rename(columns={'datetime_utc_7_': 'date_time'})\n",
    "                      .assign(date_time=lambda x: pd.to_datetime(x['date_time']))\n",
    "                      .assign(date=lambda x: x['date_time'].dt.date, hour=lambda x: x['date_time'].dt.hour)\n",
    "                      .groupby(['date', 'hour', 'node'], as_index=False).mean()\n",
    "                      # Drop unused columns\n",
    "                      .drop(['timestamp', 'gpslat', 'gpsalt', 'gpslng'], axis=1)\n",
    "                      # Change date type back to datetime64\n",
    "                      .assign(date=lambda x: pd.to_datetime(x['date']))\n",
    "                      # Add 2-digit for hour ex. 1 > 01\n",
    "                      .assign(hour=lambda x: x['hour'].astype(str).str.zfill(2))\n",
    "                      # Assign zone based on mapping list\n",
    "                      .assign(zone=lambda x: x['node'].map(mapping_list))\n",
    "                      # Assign PM2.5 Class based on threshold\n",
    "                      .assign(pm2_5_class=lambda x: pd.cut(x['pm2_5']\n",
    "                                                           , bins=[-1, low_threshold, high_threshold, float(\"inf\")]\n",
    "                                                           , labels=['Low', 'Medium', 'High']))\n",
    "                    )\n",
    "\n",
    "sensor_processed"
   ],
   "metadata": {
    "collapsed": false
   }
  }
 ],
 "metadata": {
  "kernelspec": {
   "display_name": "Python 3",
   "language": "python",
   "name": "python3"
  },
  "language_info": {
   "codemirror_mode": {
    "name": "ipython",
    "version": 2
   },
   "file_extension": ".py",
   "mimetype": "text/x-python",
   "name": "python",
   "nbconvert_exporter": "python",
   "pygments_lexer": "ipython2",
   "version": "2.7.6"
  }
 },
 "nbformat": 4,
 "nbformat_minor": 0
}
